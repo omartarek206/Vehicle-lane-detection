{
 "cells": [
  {
   "cell_type": "code",
   "execution_count": 1,
   "metadata": {},
   "outputs": [],
   "source": [
    "import argparse\n",
    "import glob\n",
    "import time\n",
    "import logging\n",
    "from pathlib import Path\n",
    "import cv2\n",
    "import numpy as np"
   ]
  },
  {
   "cell_type": "code",
   "execution_count": 3,
   "metadata": {},
   "outputs": [],
   "source": [
    "CONFIDENCE_THRESHOLD = 0.5\n",
    "NMS_THRESHOLD = 0.4\n",
    "weights =\"yolo/yolov4-tiny.weights\"\n",
    "labels =\"yolo/labels.txt\"\n",
    "cfg =\"yolo/yolov4-tiny.cfg\"\n",
    "vc = cv2.VideoCapture(\"project.mp4\")\n",
    "fps=vc.get(cv2.CAP_PROP_FPS)\n",
    "output=\"video_out.avi\""
   ]
  },
  {
   "cell_type": "code",
   "execution_count": 4,
   "metadata": {},
   "outputs": [],
   "source": [
    "class_names = list()\n",
    "with open(labels, \"r\") as f:\n",
    "    class_names = [cname.strip() for cname in f.readlines()]"
   ]
  },
  {
   "cell_type": "code",
   "execution_count": 5,
   "metadata": {},
   "outputs": [],
   "source": [
    "COLORS = np.random.randint(0, 255, size=(len(class_names), 3), dtype=\"uint8\")\n",
    "\n",
    "net = cv2.dnn.readNetFromDarknet(cfg, weights)\n",
    "net.setPreferableBackend(cv2.dnn.DNN_BACKEND_CUDA)\n",
    "net.setPreferableTarget(cv2.dnn.DNN_TARGET_CUDA)\n",
    "\n",
    "layer = net.getLayerNames()\n",
    "layer = [layer[i - 1] for i in net.getUnconnectedOutLayers()]\n",
    "writer = None"
   ]
  },
  {
   "cell_type": "code",
   "execution_count": 6,
   "metadata": {},
   "outputs": [],
   "source": [
    "def detect(frm, net, ln):\n",
    "    (H, W) = frm.shape[:2]\n",
    "    blob = cv2.dnn.blobFromImage(frm, 1 / 255.0, (416, 416), swapRB=True, crop=False)\n",
    "    net.setInput(blob)\n",
    "    start_time = time.time()\n",
    "    layerOutputs = net.forward(ln)\n",
    "    end_time = time.time()\n",
    "\n",
    "    boxes = []\n",
    "    classIds = []\n",
    "    confidences = []\n",
    "    for output in layerOutputs:\n",
    "        for detection in output:\n",
    "            scores = detection[5:]\n",
    "            classID = np.argmax(scores)\n",
    "            confidence = scores[classID]\n",
    "\n",
    "            if confidence > CONFIDENCE_THRESHOLD:\n",
    "                box = detection[0:4] * np.array([W, H, W, H])\n",
    "                (centerX, centerY, width, height) = box.astype(\"int\")\n",
    "                x = int(centerX - (width / 2))\n",
    "                y = int(centerY - (height / 2))\n",
    "\n",
    "                boxes.append([x, y, int(width), int(height)])\n",
    "                classIds.append(classID)\n",
    "                confidences.append(float(confidence))\n",
    "\n",
    "    idxs = cv2.dnn.NMSBoxes(boxes, confidences, CONFIDENCE_THRESHOLD, NMS_THRESHOLD)\n",
    "\n",
    "    if len(idxs) > 0:\n",
    "        for i in idxs.flatten():\n",
    "            (x, y) = (boxes[i][0], boxes[i][1])\n",
    "            (w, h) = (boxes[i][2], boxes[i][3])\n",
    "\n",
    "            color = [int(c) for c in COLORS[classIds[i]]]\n",
    "            cv2.rectangle(frm, (x, y), (x + w, y + h), color, 2)\n",
    "            text = \"{}: {:.4f}\".format(class_names[classIds[i]], confidences[i])\n",
    "            cv2.putText(\n",
    "                frm, text, (x, y - 5), cv2.FONT_HERSHEY_SIMPLEX, 0.5, (255, 0, 0), 2\n",
    "            )\n",
    "\n",
    "            fps_label = \"FPS: %.2f\" % (1 / (end_time - start_time))\n",
    "            cv2.putText(\n",
    "                frm, fps_label, (0, 25), cv2.FONT_HERSHEY_SIMPLEX, 1, (0, 0, 0), 2\n",
    "            )"
   ]
  },
  {
   "cell_type": "code",
   "execution_count": 8,
   "metadata": {},
   "outputs": [
    {
     "name": "stdout",
     "output_type": "stream",
     "text": [
      "Time taken : 3.1650225162506103 minutes\n"
     ]
    }
   ],
   "source": [
    "t1=time.time()\n",
    "\n",
    "while cv2.waitKey(1) < 1:\n",
    "    (grabbed, frame) = vc.read()\n",
    "    if not grabbed:\n",
    "        break\n",
    "    frame = cv2.resize(frame, (1200, 700))\n",
    "    detect(frame, net, layer)\n",
    "\n",
    "    # if args.display == 1:\n",
    "    #     # cv2.imshow(\"detections\", frame)\n",
    "\n",
    "\n",
    "    if output != \"\" and writer is None:\n",
    "        fourcc = cv2.VideoWriter_fourcc(*\"MJPG\")\n",
    "        writer = cv2.VideoWriter(\n",
    "            output, fourcc, fps, (frame.shape[1], frame.shape[0]), True\n",
    "        )\n",
    "\n",
    "    if writer is not None:\n",
    "        writer.write(frame)\n",
    "t2=time.time()\n",
    "print(\"Time taken : {0} minutes\".format((t2-t1)/60))"
   ]
  }
 ],
 "metadata": {
  "interpreter": {
   "hash": "31ba133b140970cb8c7839657d56a47ef95638af6aef465833437ab291f98487"
  },
  "kernelspec": {
   "display_name": "Python 3.9.6 64-bit",
   "language": "python",
   "name": "python3"
  },
  "language_info": {
   "codemirror_mode": {
    "name": "ipython",
    "version": 3
   },
   "file_extension": ".py",
   "mimetype": "text/x-python",
   "name": "python",
   "nbconvert_exporter": "python",
   "pygments_lexer": "ipython3",
   "version": "3.9.6"
  },
  "orig_nbformat": 4
 },
 "nbformat": 4,
 "nbformat_minor": 2
}
