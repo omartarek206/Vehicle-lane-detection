{
 "cells": [
  {
   "cell_type": "code",
   "execution_count": 1,
   "metadata": {},
   "outputs": [],
   "source": [
    "import cv2\n",
    "import numpy as np\n",
    "import matplotlib.image as mpimg\n",
    "import matplotlib.pyplot as plt"
   ]
  },
  {
   "cell_type": "code",
   "execution_count": null,
   "metadata": {},
   "outputs": [],
   "source": [
    "def plt_images(orig_image, orig_title, processed_image, processed_title, cmap='gray'):\n",
    "    # Visualize undirstorsion\n",
    "    f, (ax1, ax2) = plt.subplots(1, 2, figsize=(25, 10))\n",
    "    ax1.set_title(orig_title, fontsize=30)\n",
    "    ax1.imshow(orig_image)\n",
    "    ax2.set_title(processed_title, fontsize=30)\n",
    "    ax2.imshow(processed_image, cmap='gray')\n",
    "    plt.subplots_adjust(left=0., right=1, top=0.9, bottom=0.)"
   ]
  },
  {
   "cell_type": "code",
   "execution_count": null,
   "metadata": {},
   "outputs": [],
   "source": [
    "img = mpimg.imread(\"./images/test3.jpg\") \n",
    "im = cv2.imread(\"./images/test3.jpg\") \n",
    "plt.imshow(im)\n",
    "img.shape"
   ]
  },
  {
   "cell_type": "code",
   "execution_count": null,
   "metadata": {},
   "outputs": [],
   "source": [
    "src = np.float32([(550, 460),     # top-left\n",
    "                  (150, 720),     # bottom-left\n",
    "                  (1200, 720),    # bottom-right\n",
    "                  (770, 460)])  \n",
    "dst = np.float32([(100, 0),\n",
    "                 (100, 720),\n",
    "                 (1100, 720),\n",
    "                 (1100, 0)])\n",
    "M = cv2.getPerspectiveTransform(src, dst)\n",
    "M_inv = cv2.getPerspectiveTransform(dst,src)\n",
    "\n",
    "img_size=(1280, 720)\n",
    "flags=cv2.INTER_LINEAR\n",
    "mm=cv2.warpPerspective(img,M, img_size, flags=flags)\n",
    "#minv=cv2.warpPerspective(img, M_inv, img_size, flags=flags)\n",
    "plt_images(img, 'Source image', mm, 'mm image')\n",
    "#plt_images(img, 'Source image', minv, 'minv image')"
   ]
  },
  {
   "cell_type": "code",
   "execution_count": null,
   "metadata": {},
   "outputs": [],
   "source": [
    "hls = cv2.cvtColor(mm, cv2.COLOR_RGB2HLS)\n",
    "hsv = cv2.cvtColor(mm, cv2.COLOR_RGB2HSV)\n",
    "h_channel = hls[:,:,0]\n",
    "l_channel = hls[:,:,1]\n",
    "s_channel = hls[:,:,2]\n",
    "v_channel = hsv[:,:,2]\n",
    "print(v_channel)\n",
    "plt_images(mm, 'Source image', hls, 'HLS image')\n",
    "plt_images(mm, 'Source image', hsv, 'HSV image')"
   ]
  },
  {
   "cell_type": "markdown",
   "metadata": {},
   "source": [
    "**Thresholding function definition**\n"
   ]
  },
  {
   "cell_type": "code",
   "execution_count": null,
   "metadata": {},
   "outputs": [],
   "source": [
    "def threshold_rel(img, lo, hi):\n",
    "  #getting the maximum and minimum pixels intesties\n",
    "    vmin = np.min(img)\n",
    "    print(vmin)\n",
    "    vmax = np.max(img)\n",
    "    print(vmax)\n",
    "    \n",
    "    vlo = vmin + (vmax - vmin) * lo\n",
    "    vhi = vmin + (vmax - vmin) * hi\n",
    "    return np.uint8((img >= vlo) & (img <= vhi)) * 255\n"
   ]
  },
  {
   "cell_type": "code",
   "execution_count": null,
   "metadata": {},
   "outputs": [],
   "source": [
    "right_lane = threshold_rel(l_channel, 0.8, 1.0)\n",
    "plt_images(hls, 'Source image', right_lane, 'thresholded image')"
   ]
  },
  {
   "cell_type": "code",
   "execution_count": null,
   "metadata": {},
   "outputs": [],
   "source": [
    "def threshold_abs(img, lo, hi):\n",
    "    return np.uint8((img >= lo) & (img <= hi)) * 255"
   ]
  },
  {
   "cell_type": "code",
   "execution_count": null,
   "metadata": {},
   "outputs": [],
   "source": [
    "right_lane = threshold_rel(l_channel, 0.8, 1.0)\n",
    "print(l_channel)\n",
    "right_lane[:,:750] = 0\n",
    "plt_images(hls, 'Source image', right_lane, 'thresholded image')\n"
   ]
  },
  {
   "cell_type": "code",
   "execution_count": null,
   "metadata": {},
   "outputs": [],
   "source": [
    "left_lane = threshold_abs(h_channel, 20, 30)\n",
    "left_lane &= threshold_rel(v_channel, 0.7, 1.0)\n",
    "left_lane[:,550:] = 0\n",
    "plt_images(hls, 'Source image', left_lane, 'thresholded image')\n"
   ]
  },
  {
   "cell_type": "code",
   "execution_count": null,
   "metadata": {},
   "outputs": [],
   "source": [
    "mm = left_lane | right_lane\n",
    "plt_images(hls, 'Source image', mm, 'thresholded image')"
   ]
  }
 ],
 "metadata": {
  "interpreter": {
   "hash": "b6cb8fc8246d108541f089c5a920e1f7f3ff80824db340b1ef50fe9926a80479"
  },
  "kernelspec": {
   "display_name": "Python 3.9.6 64-bit",
   "language": "python",
   "name": "python3"
  },
  "language_info": {
   "codemirror_mode": {
    "name": "ipython",
    "version": 3
   },
   "file_extension": ".py",
   "mimetype": "text/x-python",
   "name": "python",
   "nbconvert_exporter": "python",
   "pygments_lexer": "ipython3",
   "version": "3.9.6"
  },
  "orig_nbformat": 4
 },
 "nbformat": 4,
 "nbformat_minor": 2
}
